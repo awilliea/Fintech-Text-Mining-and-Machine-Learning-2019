{
 "cells": [
  {
   "cell_type": "code",
   "execution_count": 2,
   "metadata": {
    "collapsed": true
   },
   "outputs": [],
   "source": [
    "import pickle\n",
    "import pandas as pd\n",
    "import numpy as np\n",
    "import datetime as dt\n",
    "import re\n",
    "from sklearn import preprocessing \n",
    "from xgboost.sklearn import XGBRegressor\n",
    "from sklearn import metrics   #Additional     scklearn functions\n",
    "from sklearn.model_selection import GridSearchCV\n",
    "import xgboost\n",
    "\n",
    "import warnings\n",
    "warnings.filterwarnings(\"ignore\")\n",
    "\n",
    "import matplotlib\n",
    "import matplotlib.pyplot as plt\n",
    "matplotlib.style.use('ggplot')"
   ]
  },
  {
   "cell_type": "markdown",
   "metadata": {},
   "source": [
    "### Load Data"
   ]
  },
  {
   "cell_type": "code",
   "execution_count": null,
   "metadata": {
    "collapsed": true
   },
   "outputs": [],
   "source": [
    "df = pd.read_csv(\"../score_extra.csv\",index_col=0)"
   ]
  },
  {
   "cell_type": "code",
   "execution_count": null,
   "metadata": {
    "collapsed": true,
    "scrolled": true
   },
   "outputs": [],
   "source": [
    "each_score = df[\"score\"]"
   ]
  },
  {
   "cell_type": "code",
   "execution_count": null,
   "metadata": {
    "collapsed": true
   },
   "outputs": [],
   "source": [
    "each_return = df[\"return\"]"
   ]
  },
  {
   "cell_type": "code",
   "execution_count": null,
   "metadata": {
    "collapsed": true
   },
   "outputs": [],
   "source": [
    "each_bad = df['bad']"
   ]
  },
  {
   "cell_type": "markdown",
   "metadata": {},
   "source": [
    "### Get the sentiment score"
   ]
  },
  {
   "cell_type": "code",
   "execution_count": null,
   "metadata": {
    "collapsed": true
   },
   "outputs": [],
   "source": [
    "def get_score_df(each_score,each_return,each_bad,save_filename = \"score_with_return.csv\",threshold = 100):\n",
    "    '''\n",
    "    Get a dataframe with sentiment score and relative return.\n",
    "    \n",
    "    input:\n",
    "        each_score : Series, the string of list of sentiment score \n",
    "        each_return : Series, the relative return of each_score\n",
    "        save_filename : string, the file name of the data you want to save\n",
    "        threshold : int,the limitation of the sum of sentiment score(cutted words)\n",
    "    output:\n",
    "        score : Dataframe, a dataframe which concludes sentiment scores and return\n",
    "    '''\n",
    "    score=pd.DataFrame(columns=[['Negative','Positive','Uncertainty','Litigious','StrongModal','WeakModal','Constraining']])\n",
    "\n",
    "    for i in range(each_score.shape[0]):\n",
    "        score.loc[each_score.index[i]] = each_score.iloc[i][1:-1].split(\",\")\n",
    "\n",
    "    score=score.astype(int)\n",
    "    score=pd.concat([score,each_return],axis=1)\n",
    "    score=pd.concat([score,each_bad],axis=1)\n",
    "    \n",
    "    score=score[score.sum(axis=1)> threshold]\n",
    "    score=score.reset_index()\n",
    "    score.columns=['index','Negative','Positive','Uncertainty','Litigious','StrongModal','WeakModal','Constraining','return','bad']\n",
    "\n",
    "    score.to_csv(save_filename)\n",
    "    \n",
    "    return score"
   ]
  },
  {
   "cell_type": "code",
   "execution_count": null,
   "metadata": {
    "collapsed": true
   },
   "outputs": [],
   "source": [
    "score = get_score_df(each_score,each_return,each_bad)"
   ]
  },
  {
   "cell_type": "code",
   "execution_count": null,
   "metadata": {
    "collapsed": true,
    "scrolled": true
   },
   "outputs": [],
   "source": [
    "score.head()"
   ]
  },
  {
   "cell_type": "code",
   "execution_count": null,
   "metadata": {
    "collapsed": true
   },
   "outputs": [],
   "source": [
    "# score.to_csv('score.csv')"
   ]
  },
  {
   "cell_type": "markdown",
   "metadata": {},
   "source": [
    "### Split good and bad data"
   ]
  },
  {
   "cell_type": "code",
   "execution_count": null,
   "metadata": {
    "collapsed": true
   },
   "outputs": [],
   "source": [
    "print('The numbers of all companies',score.shape[0])\n",
    "print('The numbers of good companies',score[score['bad'] == 0].shape[0])\n",
    "print('The numbers of bad companies',score[score['bad'] == 1].shape[0])"
   ]
  },
  {
   "cell_type": "code",
   "execution_count": null,
   "metadata": {
    "collapsed": true
   },
   "outputs": [],
   "source": [
    "good_data = score.loc[score['bad'] == 0].values\n",
    "bad_data = score.loc[score['bad'] == 1].values"
   ]
  },
  {
   "cell_type": "code",
   "execution_count": 87,
   "metadata": {
    "collapsed": true
   },
   "outputs": [],
   "source": [
    "# enlarge the bad data\n",
    "multiple = int(good_data.shape[0]/bad_data.shape[0])\n",
    "bad_data = np.concatenate([bad_data]*multiple,axis = 0)"
   ]
  },
  {
   "cell_type": "code",
   "execution_count": 13,
   "metadata": {},
   "outputs": [
    {
     "name": "stdout",
     "output_type": "stream",
     "text": [
      "(81914, 10)\n"
     ]
    }
   ],
   "source": [
    "print(bad_data.shape)"
   ]
  },
  {
   "cell_type": "code",
   "execution_count": 88,
   "metadata": {
    "collapsed": true
   },
   "outputs": [],
   "source": [
    "good_x = good_data[:,1:8]\n",
    "good_y = good_data[:,8]\n",
    "bad_x = bad_data[:,1:8]\n",
    "bad_y= bad_data[:,8]"
   ]
  },
  {
   "cell_type": "code",
   "execution_count": 89,
   "metadata": {},
   "outputs": [
    {
     "data": {
      "text/plain": [
       "(85894, 7)"
      ]
     },
     "execution_count": 89,
     "metadata": {},
     "output_type": "execute_result"
    }
   ],
   "source": [
    "good_x.shape"
   ]
  },
  {
   "cell_type": "code",
   "execution_count": 90,
   "metadata": {},
   "outputs": [
    {
     "data": {
      "text/plain": [
       "(81914, 7)"
      ]
     },
     "execution_count": 90,
     "metadata": {},
     "output_type": "execute_result"
    }
   ],
   "source": [
    "bad_x.shape"
   ]
  },
  {
   "cell_type": "code",
   "execution_count": 102,
   "metadata": {
    "collapsed": true
   },
   "outputs": [],
   "source": [
    "data_x = score.values[:,1:8]\n",
    "data_y = score.values[:,8]\n",
    "\n",
    "length_good = int(good_data.shape[0]*0.8)\n",
    "length_bad = int(bad_data.shape[0]*0.8)\n",
    "\n",
    "train_good_x = good_data[:length_good,1:8]\n",
    "train_good_y = good_data[:length_good,8]\n",
    "val_good_x = good_data[length_good:,1:8]\n",
    "val_good_y = good_data[length_good:,8]\n",
    "\n",
    "train_bad_x = bad_data[:length_bad,1:8]\n",
    "train_bad_y = bad_data[:length_bad,8]\n",
    "val_bad_x = bad_data[length_bad:,1:8]\n",
    "val_bad_y = bad_data[length_bad:,8]"
   ]
  },
  {
   "cell_type": "markdown",
   "metadata": {},
   "source": [
    "### Preprocessing"
   ]
  },
  {
   "cell_type": "code",
   "execution_count": 103,
   "metadata": {
    "collapsed": true
   },
   "outputs": [],
   "source": [
    "data_x_pre = preprocessing.normalize(data_x)\n",
    "\n",
    "train_x = preprocessing.normalize(np.concatenate([train_good_x,train_bad_x]))\n",
    "train_y = np.concatenate([train_good_y,train_bad_y])\n",
    "\n",
    "val_x = preprocessing.normalize(np.concatenate([val_good_x,val_bad_x]))\n",
    "val_y = np.concatenate([val_good_y,val_bad_y])"
   ]
  },
  {
   "cell_type": "code",
   "execution_count": 91,
   "metadata": {
    "collapsed": true
   },
   "outputs": [],
   "source": [
    "all_x_pre = preprocessing.normalize(np.concatenate([good_x,bad_x]))\n",
    "good_x_pre = all_x_pre[:good_x.shape[0],:] \n",
    "bad_x_pre = all_x_pre[good_x.shape[0]:,:] "
   ]
  },
  {
   "cell_type": "code",
   "execution_count": 92,
   "metadata": {
    "collapsed": true
   },
   "outputs": [],
   "source": [
    "all_y = np.concatenate([good_y,bad_y])"
   ]
  },
  {
   "cell_type": "markdown",
   "metadata": {},
   "source": [
    "### Fine tune model"
   ]
  },
  {
   "cell_type": "code",
   "execution_count": 16,
   "metadata": {
    "scrolled": true
   },
   "outputs": [
    {
     "data": {
      "text/plain": [
       "({'mean_fit_time': array([ 9.38204374, 14.54973321, 16.96195874, 19.39063029, 26.07381005,\n",
       "         28.44612079, 25.66378345]),\n",
       "  'mean_score_time': array([0.02566385, 0.06726532, 0.1225596 , 0.15815835, 0.1965209 ,\n",
       "         0.18226318, 0.173488  ]),\n",
       "  'mean_test_score': array([-0.22930358, -0.16324151, -0.16301801, -0.16350294, -0.16393184,\n",
       "         -0.16429356, -0.16457572]),\n",
       "  'mean_train_score': array([-0.2281554 , -0.15922156, -0.15691187, -0.15508605, -0.15333456,\n",
       "         -0.15157058, -0.14992836]),\n",
       "  'param_n_estimators': masked_array(data=[10, 30, 50, 70, 90, 110, 130],\n",
       "               mask=[False, False, False, False, False, False, False],\n",
       "         fill_value='?',\n",
       "              dtype=object),\n",
       "  'params': [{'n_estimators': 10},\n",
       "   {'n_estimators': 30},\n",
       "   {'n_estimators': 50},\n",
       "   {'n_estimators': 70},\n",
       "   {'n_estimators': 90},\n",
       "   {'n_estimators': 110},\n",
       "   {'n_estimators': 130}],\n",
       "  'rank_test_score': array([7, 2, 1, 3, 4, 5, 6], dtype=int32),\n",
       "  'split0_test_score': array([-0.23198324, -0.16671283, -0.16656187, -0.16694632, -0.16721421,\n",
       "         -0.16759291, -0.16791654]),\n",
       "  'split0_train_score': array([-0.22755972, -0.15870641, -0.15629449, -0.15450124, -0.1526483 ,\n",
       "         -0.15069968, -0.1491406 ]),\n",
       "  'split1_test_score': array([-0.22652045, -0.16061284, -0.16043712, -0.1609483 , -0.16148428,\n",
       "         -0.16179952, -0.16214594]),\n",
       "  'split1_train_score': array([-0.22837049, -0.15944407, -0.15728108, -0.15537779, -0.15356784,\n",
       "         -0.15192537, -0.15025416]),\n",
       "  'split2_test_score': array([-0.22824368, -0.16178351, -0.16160114, -0.16216186, -0.16266372,\n",
       "         -0.16302861, -0.16336516]),\n",
       "  'split2_train_score': array([-0.22856873, -0.15955844, -0.15735028, -0.15554576, -0.15402035,\n",
       "         -0.15238007, -0.15065073]),\n",
       "  'split3_test_score': array([-0.22957629, -0.16337506, -0.16308314, -0.16353287, -0.16398949,\n",
       "         -0.16442568, -0.16466932]),\n",
       "  'split3_train_score': array([-0.22800432, -0.15913056, -0.15669725, -0.15491682, -0.15308896,\n",
       "         -0.15128   , -0.14974888]),\n",
       "  'split4_test_score': array([-0.23019412, -0.16372315, -0.16340662, -0.16392519, -0.16430736,\n",
       "         -0.16462092, -0.16478149]),\n",
       "  'split4_train_score': array([-0.22827375, -0.15926829, -0.15693625, -0.15508866, -0.15334733,\n",
       "         -0.15156777, -0.14984745]),\n",
       "  'std_fit_time': array([0.48728066, 1.1912418 , 3.27955067, 0.78501161, 1.73164221,\n",
       "         1.04808804, 3.70083953]),\n",
       "  'std_score_time': array([0.00677423, 0.02207039, 0.02950515, 0.03045327, 0.01653222,\n",
       "         0.0169949 , 0.01731992]),\n",
       "  'std_test_score': array([0.00183942, 0.00206572, 0.002068  , 0.00201798, 0.00192444,\n",
       "         0.00194067, 0.00192779]),\n",
       "  'std_train_score': array([0.00034893, 0.00029626, 0.00038893, 0.00036526, 0.0004596 ,\n",
       "         0.00056993, 0.0005074 ])},\n",
       " {'n_estimators': 50},\n",
       " -0.16301801318189038)"
      ]
     },
     "execution_count": 16,
     "metadata": {},
     "output_type": "execute_result"
    }
   ],
   "source": [
    "param_test1 = {'n_estimators':[i for i in range(10,150,20)]}\n",
    "gsearch1 = GridSearchCV(estimator = XGBRegressor(learning_rate=0.1, min_samples_split=300,\n",
    "                                  min_samples_leaf=20,max_depth=8,max_features='sqrt', subsample=0.8,random_state=10), \n",
    "                       param_grid = param_test1, scoring='neg_mean_absolute_error',cv=5,n_jobs = 12)\n",
    "gsearch1.fit(data_x_pre,data_y)\n",
    "gsearch1.cv_results_, gsearch1.best_params_, gsearch1.best_score_"
   ]
  },
  {
   "cell_type": "code",
   "execution_count": 17,
   "metadata": {
    "scrolled": true
   },
   "outputs": [
    {
     "data": {
      "text/plain": [
       "({'mean_fit_time': array([ 4.80274377,  5.26668239,  5.39348135,  5.22103934,  8.64663262,\n",
       "          8.30035453,  8.83772187,  7.99266725, 12.81527815, 12.69018807,\n",
       "         11.48856015, 12.6365067 , 15.87284932, 14.64499302, 15.49262228,\n",
       "         11.48214922]),\n",
       "  'mean_score_time': array([0.03712258, 0.04672871, 0.04285879, 0.0419076 , 0.07094245,\n",
       "         0.0813396 , 0.07969046, 0.06585422, 0.09241076, 0.09324055,\n",
       "         0.09631395, 0.10820427, 0.12537994, 0.11101165, 0.11720705,\n",
       "         0.06769896]),\n",
       "  'mean_test_score': array([-0.1621734 , -0.1621734 , -0.1621734 , -0.1621734 , -0.16240765,\n",
       "         -0.16240765, -0.16240765, -0.16240765, -0.16279418, -0.16279418,\n",
       "         -0.16279418, -0.16279418, -0.16330676, -0.16330676, -0.16330676,\n",
       "         -0.16330676]),\n",
       "  'mean_train_score': array([-0.16154102, -0.16154102, -0.16154102, -0.16154102, -0.16054423,\n",
       "         -0.16054423, -0.16054423, -0.16054423, -0.15847281, -0.15847281,\n",
       "         -0.15847281, -0.15847281, -0.15484325, -0.15484325, -0.15484325,\n",
       "         -0.15484325]),\n",
       "  'param_max_depth': masked_array(data=[3, 3, 3, 3, 5, 5, 5, 5, 7, 7, 7, 7, 9, 9, 9, 9],\n",
       "               mask=[False, False, False, False, False, False, False, False,\n",
       "                     False, False, False, False, False, False, False, False],\n",
       "         fill_value='?',\n",
       "              dtype=object),\n",
       "  'param_min_samples_split': masked_array(data=[30, 50, 70, 90, 30, 50, 70, 90, 30, 50, 70, 90, 30, 50,\n",
       "                     70, 90],\n",
       "               mask=[False, False, False, False, False, False, False, False,\n",
       "                     False, False, False, False, False, False, False, False],\n",
       "         fill_value='?',\n",
       "              dtype=object),\n",
       "  'params': [{'max_depth': 3, 'min_samples_split': 30},\n",
       "   {'max_depth': 3, 'min_samples_split': 50},\n",
       "   {'max_depth': 3, 'min_samples_split': 70},\n",
       "   {'max_depth': 3, 'min_samples_split': 90},\n",
       "   {'max_depth': 5, 'min_samples_split': 30},\n",
       "   {'max_depth': 5, 'min_samples_split': 50},\n",
       "   {'max_depth': 5, 'min_samples_split': 70},\n",
       "   {'max_depth': 5, 'min_samples_split': 90},\n",
       "   {'max_depth': 7, 'min_samples_split': 30},\n",
       "   {'max_depth': 7, 'min_samples_split': 50},\n",
       "   {'max_depth': 7, 'min_samples_split': 70},\n",
       "   {'max_depth': 7, 'min_samples_split': 90},\n",
       "   {'max_depth': 9, 'min_samples_split': 30},\n",
       "   {'max_depth': 9, 'min_samples_split': 50},\n",
       "   {'max_depth': 9, 'min_samples_split': 70},\n",
       "   {'max_depth': 9, 'min_samples_split': 90}],\n",
       "  'rank_test_score': array([ 1,  1,  1,  1,  5,  5,  5,  5,  9,  9,  9,  9, 13, 13, 13, 13],\n",
       "        dtype=int32),\n",
       "  'split0_test_score': array([-0.16592659, -0.16592659, -0.16592659, -0.16592659, -0.16624231,\n",
       "         -0.16624231, -0.16624231, -0.16624231, -0.16657613, -0.16657613,\n",
       "         -0.16657613, -0.16657613, -0.16694215, -0.16694215, -0.16694215,\n",
       "         -0.16694215]),\n",
       "  'split0_train_score': array([-0.16061534, -0.16061534, -0.16061534, -0.16061534, -0.15960241,\n",
       "         -0.15960241, -0.15960241, -0.15960241, -0.15762779, -0.15762779,\n",
       "         -0.15762779, -0.15762779, -0.15453271, -0.15453271, -0.15453271,\n",
       "         -0.15453271]),\n",
       "  'split1_test_score': array([-0.15911649, -0.15911649, -0.15911649, -0.15911649, -0.15944328,\n",
       "         -0.15944328, -0.15944328, -0.15944328, -0.16000277, -0.16000277,\n",
       "         -0.16000277, -0.16000277, -0.16091945, -0.16091945, -0.16091945,\n",
       "         -0.16091945]),\n",
       "  'split1_train_score': array([-0.16238327, -0.16238327, -0.16238327, -0.16238327, -0.16131317,\n",
       "         -0.16131317, -0.16131317, -0.16131317, -0.15901765, -0.15901765,\n",
       "         -0.15901765, -0.15901765, -0.15491598, -0.15491598, -0.15491598,\n",
       "         -0.15491598]),\n",
       "  'split2_test_score': array([-0.160728  , -0.160728  , -0.160728  , -0.160728  , -0.16095876,\n",
       "         -0.16095876, -0.16095876, -0.16095876, -0.16129911, -0.16129911,\n",
       "         -0.16129911, -0.16129911, -0.16175735, -0.16175735, -0.16175735,\n",
       "         -0.16175735]),\n",
       "  'split2_train_score': array([-0.16189389, -0.16189389, -0.16189389, -0.16189389, -0.16097367,\n",
       "         -0.16097367, -0.16097367, -0.16097367, -0.15892138, -0.15892138,\n",
       "         -0.15892138, -0.15892138, -0.15524066, -0.15524066, -0.15524066,\n",
       "         -0.15524066]),\n",
       "  'split3_test_score': array([-0.16236706, -0.16236706, -0.16236706, -0.16236706, -0.16255342,\n",
       "         -0.16255342, -0.16255342, -0.16255342, -0.16292309, -0.16292309,\n",
       "         -0.16292309, -0.16292309, -0.16334379, -0.16334379, -0.16334379,\n",
       "         -0.16334379]),\n",
       "  'split3_train_score': array([-0.16145752, -0.16145752, -0.16145752, -0.16145752, -0.16046261,\n",
       "         -0.16046261, -0.16046261, -0.16046261, -0.15840527, -0.15840527,\n",
       "         -0.15840527, -0.15840527, -0.15492687, -0.15492687, -0.15492687,\n",
       "         -0.15492687]),\n",
       "  'split4_test_score': array([-0.16272869, -0.16272869, -0.16272869, -0.16272869, -0.16284025,\n",
       "         -0.16284025, -0.16284025, -0.16284025, -0.1631696 , -0.1631696 ,\n",
       "         -0.1631696 , -0.1631696 , -0.16357087, -0.16357087, -0.16357087,\n",
       "         -0.16357087]),\n",
       "  'split4_train_score': array([-0.16135506, -0.16135506, -0.16135506, -0.16135506, -0.1603693 ,\n",
       "         -0.1603693 , -0.1603693 , -0.1603693 , -0.15839193, -0.15839193,\n",
       "         -0.15839193, -0.15839193, -0.15460001, -0.15460001, -0.15460001,\n",
       "         -0.15460001]),\n",
       "  'std_fit_time': array([0.52991404, 0.44618863, 0.53400612, 0.69406445, 0.50691637,\n",
       "         0.91914214, 0.94181917, 0.38832049, 1.12230127, 0.90042097,\n",
       "         0.49552193, 1.50654314, 1.96453261, 0.63537567, 1.53107965,\n",
       "         1.79986417]),\n",
       "  'std_score_time': array([0.01519609, 0.01395369, 0.01538291, 0.01532485, 0.01711575,\n",
       "         0.01176075, 0.02097723, 0.018563  , 0.0264832 , 0.02904496,\n",
       "         0.02131433, 0.02428446, 0.02978642, 0.03628127, 0.03256647,\n",
       "         0.00668193]),\n",
       "  'std_test_score': array([0.0022745 , 0.0022745 , 0.0022745 , 0.0022745 , 0.00227158,\n",
       "         0.00227158, 0.00227158, 0.00227158, 0.00221307, 0.00221307,\n",
       "         0.00221307, 0.00221307, 0.00206821, 0.00206821, 0.00206821,\n",
       "         0.00206821]),\n",
       "  'std_train_score': array([0.00058862, 0.00058862, 0.00058862, 0.00058862, 0.00058309,\n",
       "         0.00058309, 0.00058309, 0.00058309, 0.00049462, 0.00049462,\n",
       "         0.00049462, 0.00049462, 0.00025527, 0.00025527, 0.00025527,\n",
       "         0.00025527])},\n",
       " {'max_depth': 3, 'min_samples_split': 30},\n",
       " -0.1621734031349999)"
      ]
     },
     "execution_count": 17,
     "metadata": {},
     "output_type": "execute_result"
    }
   ],
   "source": [
    "param_test2 = {'max_depth':[i for i in range(3,10,2)], 'min_samples_split':[i for i in range(30,100,20)]}\n",
    "gsearch2 = GridSearchCV(estimator = XGBRegressor(learning_rate=0.1, n_estimators=50, min_samples_leaf=20, \n",
    "      max_features='sqrt', subsample=0.8, random_state=10), \n",
    "   param_grid = param_test2, scoring='neg_mean_absolute_error', cv=5, n_jobs = 12)\n",
    "gsearch2.fit(data_x_pre,data_y)\n",
    "gsearch2.cv_results_, gsearch2.best_params_, gsearch2.best_score_"
   ]
  },
  {
   "cell_type": "markdown",
   "metadata": {},
   "source": [
    "### Prediction"
   ]
  },
  {
   "cell_type": "code",
   "execution_count": 18,
   "metadata": {
    "collapsed": true
   },
   "outputs": [],
   "source": [
    "xgb = XGBRegressor(learning_rate=0.1, n_estimators=50, min_samples_leaf=20, \n",
    "      max_features='sqrt', subsample=0.8, random_state=10,max_depth=3,min_sample_split=30)"
   ]
  },
  {
   "cell_type": "code",
   "execution_count": 19,
   "metadata": {
    "collapsed": true
   },
   "outputs": [],
   "source": [
    "xgb.fit(train_x,train_y)\n",
    "prediction = xgb.predict(val_x)"
   ]
  },
  {
   "cell_type": "code",
   "execution_count": 69,
   "metadata": {},
   "outputs": [
    {
     "name": "stdout",
     "output_type": "stream",
     "text": [
      "Loss 0.019261448393051092\n"
     ]
    }
   ],
   "source": [
    "print('Loss', np.sum(np.square(prediction - val_y))/train_x.shape[0])"
   ]
  },
  {
   "cell_type": "code",
   "execution_count": 21,
   "metadata": {},
   "outputs": [
    {
     "name": "stdout",
     "output_type": "stream",
     "text": [
      "Loss 0.01925001056779609\n"
     ]
    }
   ],
   "source": [
    "# extra emotion\n",
    "print('Loss', np.sum(np.square(prediction - val_y))/train_x.shape[0])"
   ]
  },
  {
   "cell_type": "code",
   "execution_count": 70,
   "metadata": {},
   "outputs": [
    {
     "data": {
      "image/png": "[encoded data removed]",
      "text/plain": [
       "<matplotlib.figure.Figure at 0x7f4abae56f98>"
      ]
     },
     "metadata": {},
     "output_type": "display_data"
    }
   ],
   "source": [
    "plt.figure(figsize=(10,8))\n",
    "plt.scatter(val_y,prediction)\n",
    "plt.show()"
   ]
  },
  {
   "cell_type": "code",
   "execution_count": 72,
   "metadata": {},
   "outputs": [
    {
     "data": {
      "image/png": "[encoded data removed]",
      "text/plain": [
       "<matplotlib.figure.Figure at 0x7f4aba7e9160>"
      ]
     },
     "metadata": {},
     "output_type": "display_data"
    }
   ],
   "source": [
    "plt.figure(figsize=(10,8))\n",
    "plt.scatter(np.clip(val_y,0,1),np.clip(prediction,0,1))\n",
    "plt.show()"
   ]
  },
  {
   "cell_type": "markdown",
   "metadata": {},
   "source": [
    "### Model for good data"
   ]
  },
  {
   "cell_type": "code",
   "execution_count": 32,
   "metadata": {
    "scrolled": true
   },
   "outputs": [
    {
     "data": {
      "text/plain": [
       "({'mean_fit_time': array([ 1.25542479,  2.64825068,  4.28882895,  6.00766654,  7.72048149,\n",
       "          9.43825769, 10.95695009]),\n",
       "  'mean_score_time': array([0.00980163, 0.02848644, 0.05080528, 0.07126846, 0.09362378,\n",
       "         0.11585302, 0.13704939]),\n",
       "  'mean_test_score': array([-0.21220585, -0.13795001, -0.14043739, -0.14118684, -0.14154812,\n",
       "         -0.14189866, -0.14218223]),\n",
       "  'mean_train_score': array([-0.21125609, -0.1328829 , -0.13300358, -0.13170915, -0.13011062,\n",
       "         -0.12853196, -0.12690051]),\n",
       "  'param_n_estimators': masked_array(data=[10, 30, 50, 70, 90, 110, 130],\n",
       "               mask=[False, False, False, False, False, False, False],\n",
       "         fill_value='?',\n",
       "              dtype=object),\n",
       "  'params': [{'n_estimators': 10},\n",
       "   {'n_estimators': 30},\n",
       "   {'n_estimators': 50},\n",
       "   {'n_estimators': 70},\n",
       "   {'n_estimators': 90},\n",
       "   {'n_estimators': 110},\n",
       "   {'n_estimators': 130}],\n",
       "  'rank_test_score': array([7, 1, 2, 3, 4, 5, 6], dtype=int32),\n",
       "  'split0_test_score': array([-0.21513287, -0.14026055, -0.14248667, -0.14318163, -0.14342971,\n",
       "         -0.14374641, -0.1438849 ]),\n",
       "  'split0_train_score': array([-0.21083918, -0.13241903, -0.13255086, -0.13122023, -0.12968217,\n",
       "         -0.12814278, -0.12646804]),\n",
       "  'split1_test_score': array([-0.20844867, -0.13389778, -0.13647494, -0.13723772, -0.13773097,\n",
       "         -0.13828364, -0.13876561]),\n",
       "  'split1_train_score': array([-0.21170122, -0.13387126, -0.13388698, -0.13269467, -0.13094422,\n",
       "         -0.12925408, -0.12758709]),\n",
       "  'split2_test_score': array([-0.21170162, -0.13880336, -0.14154684, -0.14225923, -0.14269489,\n",
       "         -0.14302249, -0.14324727]),\n",
       "  'split2_train_score': array([-0.21128454, -0.13271384, -0.13305326, -0.13176559, -0.13011582,\n",
       "         -0.12856827, -0.12704468]),\n",
       "  'split3_test_score': array([-0.21237948, -0.13741202, -0.13976346, -0.14054564, -0.140802  ,\n",
       "         -0.14111091, -0.14137023]),\n",
       "  'split3_train_score': array([-0.21129146, -0.13284171, -0.13286104, -0.13157983, -0.13002857,\n",
       "         -0.12846571, -0.12682521]),\n",
       "  'split4_test_score': array([-0.21336667, -0.13937644, -0.1419151 , -0.14271008, -0.14308312,\n",
       "         -0.14332991, -0.14364323]),\n",
       "  'split4_train_score': array([-0.21116403, -0.13256868, -0.13266576, -0.13128545, -0.1297823 ,\n",
       "         -0.12822896, -0.12657753]),\n",
       "  'std_fit_time': array([0.1635412 , 0.00485304, 0.04970057, 0.01598575, 0.03938587,\n",
       "         0.08981712, 0.18605556]),\n",
       "  'std_score_time': array([0.00050756, 0.00089031, 0.00250066, 0.00268621, 0.00201559,\n",
       "         0.0014282 , 0.00430883]),\n",
       "  'std_test_score': array([0.00220527, 0.00222763, 0.00218034, 0.00216593, 0.00211372,\n",
       "         0.00202063, 0.00192357]),\n",
       "  'std_train_score': array([0.00027658, 0.00051401, 0.00047376, 0.00053098, 0.00044565,\n",
       "         0.00039254, 0.00039729])},\n",
       " {'n_estimators': 30},\n",
       " -0.13795001425753123)"
      ]
     },
     "execution_count": 32,
     "metadata": {},
     "output_type": "execute_result"
    }
   ],
   "source": [
    "param_test1 = {'n_estimators':[i for i in range(10,150,20)]}\n",
    "gsearch1 = GridSearchCV(estimator = XGBRegressor(learning_rate=0.1, min_samples_split=300,\n",
    "                                  min_samples_leaf=20,max_depth=8,max_features='sqrt', subsample=0.8,random_state=10), \n",
    "                       param_grid = param_test1, scoring='neg_mean_absolute_error',cv=5,n_jobs = 4)\n",
    "gsearch1.fit(good_x_pre,good_y)\n",
    "gsearch1.cv_results_, gsearch1.best_params_, gsearch1.best_score_"
   ]
  },
  {
   "cell_type": "code",
   "execution_count": 33,
   "metadata": {
    "scrolled": true
   },
   "outputs": [
    {
     "data": {
      "text/plain": [
       "({'mean_fit_time': array([0.98852539, 0.96998034, 0.97280588, 0.96910167, 1.5895999 ,\n",
       "         1.59088254, 1.59042945, 1.5899477 , 2.28783469, 2.28884406,\n",
       "         2.28840904, 2.28010058, 2.98000207, 2.9896831 , 3.00705638,\n",
       "         2.98821592]),\n",
       "  'mean_score_time': array([0.01129718, 0.01115651, 0.01111212, 0.0110393 , 0.01710424,\n",
       "         0.01720037, 0.01711082, 0.01716318, 0.0245954 , 0.02454939,\n",
       "         0.02452655, 0.02445655, 0.033389  , 0.03347163, 0.03345571,\n",
       "         0.0332231 ]),\n",
       "  'mean_test_score': array([-0.13701331, -0.13701331, -0.13701331, -0.13701331, -0.13726255,\n",
       "         -0.13726255, -0.13726255, -0.13726255, -0.1376409 , -0.1376409 ,\n",
       "         -0.1376409 , -0.1376409 , -0.13826639, -0.13826639, -0.13826639,\n",
       "         -0.13826639]),\n",
       "  'mean_train_score': array([-0.13657501, -0.13657501, -0.13657501, -0.13657501, -0.13582825,\n",
       "         -0.13582825, -0.13582825, -0.13582825, -0.13414127, -0.13414127,\n",
       "         -0.13414127, -0.13414127, -0.13111764, -0.13111764, -0.13111764,\n",
       "         -0.13111764]),\n",
       "  'param_max_depth': masked_array(data=[3, 3, 3, 3, 5, 5, 5, 5, 7, 7, 7, 7, 9, 9, 9, 9],\n",
       "               mask=[False, False, False, False, False, False, False, False,\n",
       "                     False, False, False, False, False, False, False, False],\n",
       "         fill_value='?',\n",
       "              dtype=object),\n",
       "  'param_min_samples_split': masked_array(data=[30, 50, 70, 90, 30, 50, 70, 90, 30, 50, 70, 90, 30, 50,\n",
       "                     70, 90],\n",
       "               mask=[False, False, False, False, False, False, False, False,\n",
       "                     False, False, False, False, False, False, False, False],\n",
       "         fill_value='?',\n",
       "              dtype=object),\n",
       "  'params': [{'max_depth': 3, 'min_samples_split': 30},\n",
       "   {'max_depth': 3, 'min_samples_split': 50},\n",
       "   {'max_depth': 3, 'min_samples_split': 70},\n",
       "   {'max_depth': 3, 'min_samples_split': 90},\n",
       "   {'max_depth': 5, 'min_samples_split': 30},\n",
       "   {'max_depth': 5, 'min_samples_split': 50},\n",
       "   {'max_depth': 5, 'min_samples_split': 70},\n",
       "   {'max_depth': 5, 'min_samples_split': 90},\n",
       "   {'max_depth': 7, 'min_samples_split': 30},\n",
       "   {'max_depth': 7, 'min_samples_split': 50},\n",
       "   {'max_depth': 7, 'min_samples_split': 70},\n",
       "   {'max_depth': 7, 'min_samples_split': 90},\n",
       "   {'max_depth': 9, 'min_samples_split': 30},\n",
       "   {'max_depth': 9, 'min_samples_split': 50},\n",
       "   {'max_depth': 9, 'min_samples_split': 70},\n",
       "   {'max_depth': 9, 'min_samples_split': 90}],\n",
       "  'rank_test_score': array([ 1,  1,  1,  1,  5,  5,  5,  5,  9,  9,  9,  9, 13, 13, 13, 13],\n",
       "        dtype=int32),\n",
       "  'split0_test_score': array([-0.13924141, -0.13924141, -0.13924141, -0.13924141, -0.13964981,\n",
       "         -0.13964981, -0.13964981, -0.13964981, -0.14000616, -0.14000616,\n",
       "         -0.14000616, -0.14000616, -0.14058192, -0.14058192, -0.14058192,\n",
       "         -0.14058192]),\n",
       "  'split0_train_score': array([-0.13588353, -0.13588353, -0.13588353, -0.13588353, -0.13516973,\n",
       "         -0.13516973, -0.13516973, -0.13516973, -0.1336324 , -0.1336324 ,\n",
       "         -0.1336324 , -0.1336324 , -0.13064471, -0.13064471, -0.13064471,\n",
       "         -0.13064471]),\n",
       "  'split1_test_score': array([-0.13268404, -0.13268404, -0.13268404, -0.13268404, -0.13301216,\n",
       "         -0.13301216, -0.13301216, -0.13301216, -0.13342937, -0.13342937,\n",
       "         -0.13342937, -0.13342937, -0.13443979, -0.13443979, -0.13443979,\n",
       "         -0.13443979]),\n",
       "  'split1_train_score': array([-0.13780174, -0.13780174, -0.13780174, -0.13780174, -0.13696717,\n",
       "         -0.13696717, -0.13696717, -0.13696717, -0.13518662, -0.13518662,\n",
       "         -0.13518662, -0.13518662, -0.13182656, -0.13182656, -0.13182656,\n",
       "         -0.13182656]),\n",
       "  'split2_test_score': array([-0.13788657, -0.13788657, -0.13788657, -0.13788657, -0.13804954,\n",
       "         -0.13804954, -0.13804954, -0.13804954, -0.13836187, -0.13836187,\n",
       "         -0.13836187, -0.13836187, -0.13886139, -0.13886139, -0.13886139,\n",
       "         -0.13886139]),\n",
       "  'split2_train_score': array([-0.13642397, -0.13642397, -0.13642397, -0.13642397, -0.13568773,\n",
       "         -0.13568773, -0.13568773, -0.13568773, -0.13391939, -0.13391939,\n",
       "         -0.13391939, -0.13391939, -0.1309253 , -0.1309253 , -0.1309253 ,\n",
       "         -0.1309253 ]),\n",
       "  'split3_test_score': array([-0.13665743, -0.13665743, -0.13665743, -0.13665743, -0.13688703,\n",
       "         -0.13688703, -0.13688703, -0.13688703, -0.13723108, -0.13723108,\n",
       "         -0.13723108, -0.13723108, -0.13781   , -0.13781   , -0.13781   ,\n",
       "         -0.13781   ]),\n",
       "  'split3_train_score': array([-0.13661454, -0.13661454, -0.13661454, -0.13661454, -0.13590437,\n",
       "         -0.13590437, -0.13590437, -0.13590437, -0.13411931, -0.13411931,\n",
       "         -0.13411931, -0.13411931, -0.1312616 , -0.1312616 , -0.1312616 ,\n",
       "         -0.1312616 ]),\n",
       "  'split4_test_score': array([-0.13859719, -0.13859719, -0.13859719, -0.13859719, -0.13871427,\n",
       "         -0.13871427, -0.13871427, -0.13871427, -0.13917611, -0.13917611,\n",
       "         -0.13917611, -0.13917611, -0.13963892, -0.13963892, -0.13963892,\n",
       "         -0.13963892]),\n",
       "  'split4_train_score': array([-0.1361513 , -0.1361513 , -0.1361513 , -0.1361513 , -0.13541226,\n",
       "         -0.13541226, -0.13541226, -0.13541226, -0.13384861, -0.13384861,\n",
       "         -0.13384861, -0.13384861, -0.13093003, -0.13093003, -0.13093003,\n",
       "         -0.13093003]),\n",
       "  'std_fit_time': array([0.00639905, 0.00349507, 0.00374658, 0.00421319, 0.00240801,\n",
       "         0.00560106, 0.00711954, 0.0043047 , 0.00913567, 0.00482059,\n",
       "         0.00966602, 0.00520244, 0.01024025, 0.01158472, 0.03214063,\n",
       "         0.01402478]),\n",
       "  'std_score_time': array([0.00028743, 0.00036444, 0.00025775, 0.00026465, 0.0006152 ,\n",
       "         0.00069071, 0.00064019, 0.00064766, 0.00078271, 0.00077196,\n",
       "         0.00059687, 0.00067208, 0.00055458, 0.00059102, 0.00071473,\n",
       "         0.00043386]),\n",
       "  'std_test_score': array([0.00232831, 0.00232831, 0.00232831, 0.00232831, 0.00230794,\n",
       "         0.00230794, 0.00230794, 0.00230794, 0.00229679, 0.00229679,\n",
       "         0.00229679, 0.00229679, 0.002119  , 0.002119  , 0.002119  ,\n",
       "         0.002119  ]),\n",
       "  'std_train_score': array([0.00066135, 0.00066135, 0.00066135, 0.00066135, 0.00062119,\n",
       "         0.00062119, 0.00062119, 0.00062119, 0.00054535, 0.00054535,\n",
       "         0.00054535, 0.00054535, 0.00040476, 0.00040476, 0.00040476,\n",
       "         0.00040476])},\n",
       " {'max_depth': 3, 'min_samples_split': 30},\n",
       " -0.1370133100716194)"
      ]
     },
     "execution_count": 33,
     "metadata": {},
     "output_type": "execute_result"
    }
   ],
   "source": [
    "param_test2 = {'max_depth':[i for i in range(3,10,2)], 'min_samples_split':[i for i in range(30,100,20)]}\n",
    "gsearch2 = GridSearchCV(estimator = XGBRegressor(learning_rate=0.1, n_estimators=30, min_samples_leaf=20, \n",
    "      max_features='sqrt', subsample=0.8, random_state=10), \n",
    "   param_grid = param_test2, scoring='neg_mean_absolute_error', cv=5, n_jobs = 4)\n",
    "gsearch2.fit(good_x_pre,good_y)\n",
    "gsearch2.cv_results_, gsearch2.best_params_, gsearch2.best_score_"
   ]
  },
  {
   "cell_type": "code",
   "execution_count": 34,
   "metadata": {
    "collapsed": true
   },
   "outputs": [],
   "source": [
    "xgb = XGBRegressor(learning_rate=0.1, n_estimators=30, min_samples_leaf=20, \n",
    "      max_features='sqrt', subsample=0.8, random_state=10,max_depth=3,min_sample_split=30)"
   ]
  },
  {
   "cell_type": "code",
   "execution_count": 35,
   "metadata": {
    "collapsed": true
   },
   "outputs": [],
   "source": [
    "xgb.fit(good_x_pre,good_y)\n",
    "prediction = xgb.predict(good_x_pre)"
   ]
  },
  {
   "cell_type": "code",
   "execution_count": 93,
   "metadata": {
    "collapsed": true
   },
   "outputs": [],
   "source": [
    "prediction_bad = xgb.predict(bad_x_pre)"
   ]
  },
  {
   "cell_type": "code",
   "execution_count": 94,
   "metadata": {},
   "outputs": [
    {
     "name": "stdout",
     "output_type": "stream",
     "text": [
      "Loss_good 0.055361274212463514\n",
      "Loss_bad 0.16729869613310847\n"
     ]
    }
   ],
   "source": [
    "loss_good = np.square(prediction - good_y)\n",
    "loss_bad = np.square(prediction_bad - bad_y)\n",
    "\n",
    "print('Loss_good', np.sum(loss_good)/good_y.shape[0])\n",
    "print('Loss_bad', np.sum(loss_bad)/bad_y.shape[0])\n"
   ]
  },
  {
   "cell_type": "code",
   "execution_count": 96,
   "metadata": {},
   "outputs": [
    {
     "data": {
      "image/png": "[encoded data removed]",
      "text/plain": [
       "<matplotlib.figure.Figure at 0x7f1af51a2a90>"
      ]
     },
     "metadata": {},
     "output_type": "display_data"
    }
   ],
   "source": [
    "plt.figure(figsize=(10,8))\n",
    "plt.scatter(good_y,prediction,label='good')\n",
    "plt.scatter(bad_y,prediction_bad,label='bad')\n",
    "plt.legend(loc='upper right')\n",
    "plt.show()"
   ]
  },
  {
   "cell_type": "code",
   "execution_count": 42,
   "metadata": {},
   "outputs": [
    {
     "data": {
      "image/png": "[encoded data removed]",
      "text/plain": [
       "<matplotlib.figure.Figure at 0x7f1af62e95f8>"
      ]
     },
     "metadata": {},
     "output_type": "display_data"
    }
   ],
   "source": [
    "plt.figure(figsize=(10,8))\n",
    "plt.scatter(good_y,prediction,label='good')\n",
    "# plt.scatter(bad_y,prediction_bad,label='bad')\n",
    "plt.legend(loc='upper right')\n",
    "plt.show()"
   ]
  },
  {
   "cell_type": "code",
   "execution_count": 47,
   "metadata": {},
   "outputs": [
    {
     "data": {
      "image/png": "[encoded data removed]",
      "text/plain": [
       "<matplotlib.figure.Figure at 0x7f1af4d708d0>"
      ]
     },
     "metadata": {},
     "output_type": "display_data"
    }
   ],
   "source": [
    "plt.plot(np.clip(loss_good,0,10))\n",
    "plt.show()"
   ]
  },
  {
   "cell_type": "code",
   "execution_count": 68,
   "metadata": {},
   "outputs": [
    {
     "data": {
      "image/png": "[encoded data removed]",
      "text/plain": [
       "<matplotlib.figure.Figure at 0x7f1af5b83dd8>"
      ]
     },
     "metadata": {},
     "output_type": "display_data"
    }
   ],
   "source": [
    "plt.hist(np.clip(loss_good,0,1),bins=20)\n",
    "plt.show()"
   ]
  },
  {
   "cell_type": "code",
   "execution_count": 66,
   "metadata": {},
   "outputs": [
    {
     "data": {
      "image/png": "[encoded data removed]",
      "text/plain": [
       "<matplotlib.figure.Figure at 0x7f1af4d9ffd0>"
      ]
     },
     "metadata": {},
     "output_type": "display_data"
    }
   ],
   "source": [
    "plt.hist(np.sort(loss_bad),bins=20)\n",
    "plt.show()"
   ]
  },
  {
   "cell_type": "code",
   "execution_count": 98,
   "metadata": {
    "collapsed": true
   },
   "outputs": [],
   "source": [
    "prediction_all = xgb.predict(all_x_pre)\n",
    "\n",
    "loss_all = np.square(prediction_all - all_y)\n",
    "\n",
    "train_length = int(good_x.shape[0]+bad_x.shape[0]*0.8)\n",
    "loss_t = loss_all[:train_length]\n",
    "loss_v = np.concatenate([loss_all[:good_x.shape[0]],loss_all[train_length:]])\n",
    "\n",
    "labels = np.array([1]*good_x.shape[0] + [0]*bad_x.shape[0])\n",
    "labels_t = labels[:train_length]\n",
    "labels_v = np.concatenate([labels[:good_x.shape[0]],labels[train_length:]])"
   ]
  },
  {
   "cell_type": "code",
   "execution_count": 99,
   "metadata": {
    "collapsed": true
   },
   "outputs": [],
   "source": [
    "def get_threshold(loss):\n",
    "    loss_sort = np.sort(loss)\n",
    "    thres = []\n",
    "    for i,l in enumerate(loss_sort):\n",
    "        if(i == 0):\n",
    "            thres.append((0+l)/2)\n",
    "        else:\n",
    "            thres.append((l+loss_sort[i-1])/2)\n",
    "    thres.append((1+loss_sort[-1])/2)\n",
    "    return thres\n",
    "\n",
    "def get_best_threshold(labels,loss_all,thre_list):\n",
    "    b_err = 10\n",
    "    length = labels.shape[0]\n",
    "    \n",
    "    for thre in thre_list:\n",
    "        pre = np.zeros((length))\n",
    "        pre[loss_all<thre] = 1\n",
    "        err = np.sum(labels != pre)/length\n",
    "        if(err < b_err):\n",
    "            b_err = err\n",
    "            b_thr = thre\n",
    "    return b_err,b_thr"
   ]
  },
  {
   "cell_type": "code",
   "execution_count": 100,
   "metadata": {},
   "outputs": [
    {
     "name": "stdout",
     "output_type": "stream",
     "text": [
      "0.1316742944317315\n",
      "0.04000993494015087\n"
     ]
    }
   ],
   "source": [
    "thre_list = get_threshold(loss_all)\n",
    "\n",
    "b_err,b_thr = get_best_threshold(labels,loss_all,thre_list)\n",
    "\n",
    "print(b_err)\n",
    "print(b_thr)"
   ]
  },
  {
   "cell_type": "code",
   "execution_count": 101,
   "metadata": {},
   "outputs": [
    {
     "name": "stdout",
     "output_type": "stream",
     "text": [
      "Ein 0.1376060756149909\n",
      "Ein_thr 0.04126670612650797\n",
      "E_out 0.16732012084828457\n",
      "E_all 0.13176368230358504\n"
     ]
    }
   ],
   "source": [
    "thre_list = get_threshold(loss_t)\n",
    "b_err,b_thr = get_best_threshold(labels_t,loss_t,thre_list)\n",
    "\n",
    "print('Ein',b_err)\n",
    "print('Ein_thr',b_thr)\n",
    "\n",
    "length_v = labels_v.shape[0]\n",
    "pre_v = np.zeros((length_v))\n",
    "pre_v[loss_v<b_thr] =1\n",
    "err = np.sum(labels_v != pre_v)/length_v\n",
    "print('E_out',err)\n",
    "\n",
    "length = labels.shape[0]\n",
    "pre = np.zeros((length))\n",
    "pre[loss_all<b_thr] =1\n",
    "err = np.sum(labels != pre)/length\n",
    "print('E_all',err)"
   ]
  },
  {
   "cell_type": "code",
   "execution_count": null,
   "metadata": {
    "collapsed": true
   },
   "outputs": [],
   "source": []
  }
 ],
 "metadata": {
  "kernelspec": {
   "display_name": "Python 3",
   "language": "python",
   "name": "python3"
  },
  "language_info": {
   "codemirror_mode": {
    "name": "ipython",
    "version": 3
   },
   "file_extension": ".py",
   "mimetype": "text/x-python",
   "name": "python",
   "nbconvert_exporter": "python",
   "pygments_lexer": "ipython3",
   "version": "3.6.8"
  }
 },
 "nbformat": 4,
 "nbformat_minor": 2
}
