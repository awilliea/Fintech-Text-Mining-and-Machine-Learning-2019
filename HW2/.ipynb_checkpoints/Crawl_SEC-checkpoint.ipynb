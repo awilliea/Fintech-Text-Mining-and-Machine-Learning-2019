{
 "cells": [
  {
   "cell_type": "code",
   "execution_count": 1,
   "metadata": {},
   "outputs": [],
   "source": [
    "import numpy as np\n",
    "import pandas as pd\n",
    "from pyquery import PyQuery as pq\n",
    "import time\n",
    "import datetime\n",
    "import requests\n",
    "import urllib.request\n",
    "import os\n",
    "import calendar\n",
    "import pickle\n",
    "from selenium import webdriver"
   ]
  },
  {
   "cell_type": "code",
   "execution_count": 2,
   "metadata": {},
   "outputs": [],
   "source": [
    "company_url = 'https://www.sec.gov/cgi-bin/browse-edgar?action=getcompany&CIK=0000789019&type=&dateb=&owner=include&count=40'"
   ]
  },
  {
   "cell_type": "code",
   "execution_count": 76,
   "metadata": {},
   "outputs": [],
   "source": [
    "def crawl_by_company(company_url,chrome_filepath):\n",
    "        \n",
    "    options = webdriver.ChromeOptions()\n",
    "    prefs = {'download.default_directory': './data'}\n",
    "    options.add_experimental_option('prefs', prefs)\n",
    "    browser=webdriver.Chrome(chrome_filepath,options=options) \n",
    "    browser.get(company_url)\n",
    "    browser.find_element_by_name('type').send_keys('10-K')\n",
    "    browser.find_element_by_xpath(\"//input[@value='Search']\").click()\n",
    "    time.sleep(3)\n",
    "    b_url = browser.current_url\n",
    "    \n",
    "    finance_report_url = []\n",
    "    res = requests.get(b_url)\n",
    "    doc = pq(res.text)\n",
    "\n",
    "    temp = 'https://www.sec.gov'\n",
    "    for i,d in enumerate(doc('.tableFile2 #documentsbutton').items()):\n",
    "\n",
    "        f_url = temp+d.attr('href')    \n",
    "        browser.get(f_url)\n",
    "        lv1_res = requests.get(f_url)\n",
    "        lv1_doc = pq(lv1_res.text)\n",
    "        txt_num = lv1_doc('#secNum').text().split(' ')[-1]\n",
    "        browser.find_element_by_xpath(f\"//a[contains(text(),'{txt_num}.txt')] \").click()\n",
    "        time.sleep(3)\n",
    "        print(browser.current_url)\n",
    "        finance_report_url.append(browser.current_url)\n",
    "    \n",
    "    browser.quit()\n",
    "    \n",
    "    return finance_report_url"
   ]
  },
  {
   "cell_type": "code",
   "execution_count": 72,
   "metadata": {},
   "outputs": [],
   "source": [
    "company_url = 'https://www.sec.gov/cgi-bin/browse-edgar?action=getcompany&CIK=0000789019&type=&dateb=&owner=include&count=40'"
   ]
  },
  {
   "cell_type": "code",
   "execution_count": 74,
   "metadata": {},
   "outputs": [
    {
     "name": "stdout",
     "output_type": "stream",
     "text": [
      "https://www.sec.gov/Archives/edgar/data/789019/000156459018019062/0001564590-18-019062.txt\n",
      "https://www.sec.gov/Archives/edgar/data/789019/000156459017014900/0001564590-17-014900.txt\n",
      "https://www.sec.gov/Archives/edgar/data/789019/000119312516662209/0001193125-16-662209.txt\n",
      "https://www.sec.gov/Archives/edgar/data/789019/000119312515272806/0001193125-15-272806.txt\n",
      "https://www.sec.gov/Archives/edgar/data/789019/000119312514289961/0001193125-14-289961.txt\n",
      "https://www.sec.gov/Archives/edgar/data/789019/000119312513310206/0001193125-13-310206.txt\n",
      "https://www.sec.gov/Archives/edgar/data/789019/000119312512316848/0001193125-12-316848.txt\n",
      "https://www.sec.gov/Archives/edgar/data/789019/000119312511200680/0001193125-11-200680.txt\n",
      "https://www.sec.gov/Archives/edgar/data/789019/000119312510171791/0001193125-10-171791.txt\n",
      "https://www.sec.gov/Archives/edgar/data/789019/000119312509158735/0001193125-09-158735.txt\n",
      "https://www.sec.gov/Archives/edgar/data/789019/000119312508162768/0001193125-08-162768.txt\n",
      "https://www.sec.gov/Archives/edgar/data/789019/000119312507170817/0001193125-07-170817.txt\n",
      "https://www.sec.gov/Archives/edgar/data/789019/000119312506180008/0001193125-06-180008.txt\n",
      "https://www.sec.gov/Archives/edgar/data/789019/000119312505174825/0001193125-05-174825.txt\n",
      "https://www.sec.gov/Archives/edgar/data/789019/000119312504150689/0001193125-04-150689.txt\n",
      "https://www.sec.gov/Archives/edgar/data/789019/000119312503045632/0001193125-03-045632.txt\n",
      "https://www.sec.gov/Archives/edgar/data/789019/000103221002001351/0001032210-02-001351.txt\n",
      "https://www.sec.gov/Archives/edgar/data/789019/000103221001501099/0001032210-01-501099.txt\n",
      "https://www.sec.gov/Archives/edgar/data/789019/000103221000001961/0001032210-00-001961.txt\n",
      "https://www.sec.gov/Archives/edgar/data/789019/000103221099001375/0001032210-99-001375.txt\n",
      "https://www.sec.gov/Archives/edgar/data/789019/0001032210-98-001067.txt\n",
      "https://www.sec.gov/Archives/edgar/data/789019/0001017062-97-001764.txt\n",
      "https://www.sec.gov/Archives/edgar/data/789019/0000891020-96-001130.txt\n",
      "https://www.sec.gov/Archives/edgar/data/789019/0000891020-95-000433.txt\n",
      "https://www.sec.gov/Archives/edgar/data/789019/0000891020-94-000175.txt\n"
     ]
    }
   ],
   "source": [
    "finance_report_url = crawl_by_company(company_url,'/Users/lou/Downloads/chromedriver')"
   ]
  },
  {
   "cell_type": "code",
   "execution_count": 84,
   "metadata": {},
   "outputs": [],
   "source": [
    "def get_finace_report_txt(finance_report_url):\n",
    "    # check directory\n",
    "    if not os.path.isdir('./data'):\n",
    "        os.mkdir('./data')\n",
    "    \n",
    "    for url in finance_report_url:\n",
    "        symbol = url.split('/')[6] # number of company\n",
    "        year = url.split('-')[1]  # 94 ~ 18\n",
    "        filename = './data/' + symbol + '_' + year + 'txt'\n",
    "        urllib.request.urlretrieve(url,filename)\n",
    "        print(filename)"
   ]
  },
  {
   "cell_type": "code",
   "execution_count": 85,
   "metadata": {
    "scrolled": true
   },
   "outputs": [
    {
     "name": "stdout",
     "output_type": "stream",
     "text": [
      "./data/789019_18txt\n",
      "./data/789019_17txt\n",
      "./data/789019_16txt\n",
      "./data/789019_15txt\n",
      "./data/789019_14txt\n",
      "./data/789019_13txt\n",
      "./data/789019_12txt\n",
      "./data/789019_11txt\n",
      "./data/789019_10txt\n",
      "./data/789019_09txt\n",
      "./data/789019_08txt\n",
      "./data/789019_07txt\n",
      "./data/789019_06txt\n",
      "./data/789019_05txt\n",
      "./data/789019_04txt\n",
      "./data/789019_03txt\n",
      "./data/789019_02txt\n",
      "./data/789019_01txt\n",
      "./data/789019_00txt\n",
      "./data/789019_99txt\n",
      "./data/789019_98txt\n",
      "./data/789019_97txt\n",
      "./data/789019_96txt\n",
      "./data/789019_95txt\n",
      "./data/789019_94txt\n"
     ]
    }
   ],
   "source": [
    "get_finace_report_txt(finance_report_url)"
   ]
  },
  {
   "cell_type": "code",
   "execution_count": null,
   "metadata": {},
   "outputs": [],
   "source": []
  }
 ],
 "metadata": {
  "kernelspec": {
   "display_name": "Python 3",
   "language": "python",
   "name": "python3"
  },
  "language_info": {
   "codemirror_mode": {
    "name": "ipython",
    "version": 3
   },
   "file_extension": ".py",
   "mimetype": "text/x-python",
   "name": "python",
   "nbconvert_exporter": "python",
   "pygments_lexer": "ipython3",
   "version": "3.6.8"
  }
 },
 "nbformat": 4,
 "nbformat_minor": 2
}
