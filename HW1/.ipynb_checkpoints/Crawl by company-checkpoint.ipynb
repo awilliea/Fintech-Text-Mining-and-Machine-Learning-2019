{
 "cells": [
  {
   "cell_type": "code",
   "execution_count": 1,
   "metadata": {},
   "outputs": [],
   "source": [
    "import numpy as np\n",
    "import pandas as pd\n",
    "from pyquery import PyQuery as pq\n",
    "import time\n",
    "import datetime\n",
    "import requests\n",
    "import urllib.request\n",
    "import os\n",
    "import calendar\n",
    "import pickle"
   ]
  },
  {
   "cell_type": "code",
   "execution_count": 2,
   "metadata": {},
   "outputs": [],
   "source": [
    "# input\n",
    "ETF_data = pd.read_csv('Emerging Asia Pacific ETF List (114).csv')\n",
    "\n",
    "# filter the inception date\n",
    "ETF_data['Inception'] = pd.to_datetime(ETF_data['Inception'], format=\"%d/%m/%Y\")\n",
    "date = datetime.datetime(2016, 1, 1, 0, 0)\n",
    "ETF_data = ETF_data.loc[ETF_data['Inception'] < date,:].reset_index()\n",
    "\n",
    "# extract symbol and name of each ETF\n",
    "symbol_list = ETF_data['Symbol']\n",
    "name_list = ETF_data['ETF Name']"
   ]
  },
  {
   "cell_type": "code",
   "execution_count": 56,
   "metadata": {},
   "outputs": [],
   "source": [
    "homepage_list = []\n",
    "for i in symbol_list:\n",
    "    url = 'https://www.etf.com/'+i+'#overview'\n",
    "    res = requests.get(url)\n",
    "    doc = pq(res.text)\n",
    "    doc.make_links_absolute(res.url)\n",
    "    homepage_list.append(doc('.field-content.helplink')('a').attr('href'))"
   ]
  },
  {
   "cell_type": "code",
   "execution_count": 3,
   "metadata": {},
   "outputs": [],
   "source": [
    "# dic = {'symbol':[],'name':[],'addr':[]}\n",
    "# for i,s in enumerate(symbol_list):\n",
    "#     dic['symbol'].append(s)\n",
    "#     dic['name'].append(name_list[i])\n",
    "#     dic['addr'].append(homepage_list[i])\n",
    "#     print(s,name_list[i],homepage_list[i])\n",
    "    \n",
    "# # Save this dic\n",
    "# with open(\"ETF_dic.pkl\",\"wb\") as f:\n",
    "#     pickle.dump(dic,f)\n",
    "# Use\n",
    "with open('ETF_dic.pkl','rb') as f:\n",
    "    dic = pickle.load(f)"
   ]
  },
  {
   "cell_type": "code",
   "execution_count": 4,
   "metadata": {},
   "outputs": [],
   "source": [
    "def get_the_last_day_of_month(start_date,end_date):\n",
    "    ans = []\n",
    "    temp = start_date - datetime.timedelta(1)\n",
    "    year = start_date.year\n",
    "    month = start_date.month\n",
    "    \n",
    "    while (temp < end_date):\n",
    "        temp = temp + datetime.timedelta(calendar.monthrange(year,month)[1])\n",
    "        ans.append(temp)\n",
    "        month += 1\n",
    "        if(month > 12):\n",
    "            month = 1\n",
    "            year += 1\n",
    "    \n",
    "    # check for trading day\n",
    "    for i in range(len(ans)):\n",
    "        if ans[i].isoweekday()>5:\n",
    "            ans[i]=ans[i]+datetime.timedelta(days=5-ans[i].isoweekday())\n",
    "    return ans"
   ]
  },
  {
   "cell_type": "code",
   "execution_count": 7,
   "metadata": {},
   "outputs": [],
   "source": [
    "last_day_of_month = get_the_last_day_of_month(datetime.datetime(2015,12,31,0,0),datetime.datetime(2018,12,31,0,0))"
   ]
  },
  {
   "cell_type": "code",
   "execution_count": 8,
   "metadata": {},
   "outputs": [
    {
     "data": {
      "text/plain": [
       "37"
      ]
     },
     "execution_count": 8,
     "metadata": {},
     "output_type": "execute_result"
    }
   ],
   "source": [
    "len(last_day_of_month)"
   ]
  },
  {
   "cell_type": "code",
   "execution_count": 47,
   "metadata": {},
   "outputs": [],
   "source": [
    "# Columbia\n",
    "def get_Columbia_NAV(symbol,addr,start,last_day_of_month):\n",
    "    \n",
    "    # check directory\n",
    "    if not os.path.isdir('./data'):\n",
    "        os.mkdir('./data')\n",
    "    if not os.path.isdir('./data/Columbia'):\n",
    "        os.mkdir('./data/Columbia')\n",
    "    \n",
    "    # crawl    \n",
    "    if start:\n",
    "        res = requests.get(addr)\n",
    "        doc = pq(res.text)\n",
    "        doc.make_links_absolute(res.url)\n",
    "        filename = doc('#fundliterature .link-list')('li:nth-child(6)')('a').attr('href')\n",
    "        filename = filename.replace(' ','%20')\n",
    "        urllib.request.urlretrieve(filename, \"./data/Columbia/columbia.xls\")\n",
    "        print('Download columbia.xls')\n",
    "        \n",
    "        # filter the last of the month\n",
    "        data = pd.read_excel('./data/Columbia/columbia.xls')\n",
    "        data = data.rename(columns = data.iloc[2]).iloc[3:,:]\n",
    "        data['Date'] = pd.to_datetime(data['Date'], format=\"%Y/%m/%d\")\n",
    "        \n",
    "        mask = [False for i in range(data['Date'].shape[0])]\n",
    "        for day in last_day_of_month:\n",
    "            temp = data['Date'] == day\n",
    "            mask |= temp\n",
    "        data = data[mask]\n",
    "        data.to_excel('./data/Columbia/columbia_filter_day.xls')\n",
    "    \n",
    "    # get NAV of each symbol from Columbia\n",
    "    \n",
    "    data_filter = pd.read_excel('./data/Columbia/columbia_filter_day.xls')\n",
    "    data_filter = data_filter[data_filter['Fund Symbol'] == symbol]\n",
    "\n",
    "    data_symbol = pd.DataFrame(last_day_of_month[::-1],columns=['Date'])\n",
    "    data_symbol = data_symbol.merge(data_filter[['Date','NAV']],on='Date',how='left')\n",
    "    data_symbol.to_excel(f'./data/Columbia/{symbol}.xls')"
   ]
  },
  {
   "cell_type": "code",
   "execution_count": 48,
   "metadata": {
    "scrolled": true
   },
   "outputs": [],
   "source": [
    "get_Columbia_NAV(dic['symbol'][0],dic['addr'][0],False,last_day_of_month)"
   ]
  },
  {
   "cell_type": "code",
   "execution_count": 62,
   "metadata": {},
   "outputs": [
    {
     "data": {
      "text/plain": [
       "'CSOP MSCI China A International Hedged ETF'"
      ]
     },
     "execution_count": 62,
     "metadata": {},
     "output_type": "execute_result"
    }
   ],
   "source": [
    "dic['name'][5]"
   ]
  },
  {
   "cell_type": "code",
   "execution_count": 58,
   "metadata": {},
   "outputs": [
    {
     "data": {
      "text/plain": [
       "'http://www.csopasset.us/en-us/products/etf/a50/'"
      ]
     },
     "execution_count": 58,
     "metadata": {},
     "output_type": "execute_result"
    }
   ],
   "source": [
    "dic['addr'][4]"
   ]
  },
  {
   "cell_type": "code",
   "execution_count": null,
   "metadata": {},
   "outputs": [],
   "source": [
    "# CSOP \n",
    "# forbidden!!!!!\n",
    "def get_CSOP_NAV(symbol,addr,start,last_day_of_month):\n",
    "    # check directory\n",
    "    if not os.path.isdir('./data'):\n",
    "        os.mkdir('./data')\n",
    "    if not os.path.isdir('./data/CSOP'):\n",
    "        os.mkdir('./data/CSOP')\n",
    "        \n",
    "     # crawl    \n",
    "    if start:\n",
    "        res = requests.get(addr)\n",
    "        doc = pq(res.text)\n",
    "        doc.make_links_absolute(res.url)\n",
    "        filename = doc('#fundliterature .link-list')('li:nth-child(6)')('a').attr('href')\n",
    "        filename = filename.replace(' ','%20')\n",
    "        urllib.request.urlretrieve(filename, \"./data/Columbia/columbia.xls\")\n",
    "     \n"
   ]
  },
  {
   "cell_type": "code",
   "execution_count": 91,
   "metadata": {},
   "outputs": [
    {
     "data": {
      "text/plain": [
       "[<html>]"
      ]
     },
     "execution_count": 91,
     "metadata": {},
     "output_type": "execute_result"
    }
   ],
   "source": [
    "res = requests.get(dic['addr'][4])\n",
    "doc = pq(res.text)\n",
    "doc.make_links_absolute(res.url)\n"
   ]
  },
  {
   "cell_type": "code",
   "execution_count": 92,
   "metadata": {},
   "outputs": [
    {
     "data": {
      "text/plain": [
       "'<html>\\r\\n<head><title>403 Forbidden</title></head>\\r\\n<body bgcolor=\"white\">\\r\\n<center><h1>403 Forbidden</h1></center>\\r\\n<hr><center>nginx</center>\\r\\n</body>\\r\\n</html>\\r\\n'"
      ]
     },
     "execution_count": 92,
     "metadata": {},
     "output_type": "execute_result"
    }
   ],
   "source": [
    "res.text"
   ]
  },
  {
   "cell_type": "code",
   "execution_count": 96,
   "metadata": {},
   "outputs": [],
   "source": [
    "from selenium import webdriver"
   ]
  },
  {
   "cell_type": "code",
   "execution_count": 105,
   "metadata": {},
   "outputs": [],
   "source": [
    "browser=webdriver.Chrome('/Users/lou/Downloads/chromedriver') \n",
    "browser.get(dic['addr'][4])\n",
    "browser.close()"
   ]
  },
  {
   "cell_type": "code",
   "execution_count": 106,
   "metadata": {},
   "outputs": [
    {
     "data": {
      "text/plain": [
       "'Direxion Daily China 3x Bear Shares'"
      ]
     },
     "execution_count": 106,
     "metadata": {},
     "output_type": "execute_result"
    }
   ],
   "source": [
    "dic['name'][6]"
   ]
  },
  {
   "cell_type": "code",
   "execution_count": 109,
   "metadata": {},
   "outputs": [
    {
     "data": {
      "text/plain": [
       "'http://www.direxioninvestments.com/products/direxion-daily-china-bear-3x-etf'"
      ]
     },
     "execution_count": 109,
     "metadata": {},
     "output_type": "execute_result"
    }
   ],
   "source": [
    "dic['addr'][6]"
   ]
  },
  {
   "cell_type": "code",
   "execution_count": 107,
   "metadata": {},
   "outputs": [],
   "source": [
    "# Direxion\n",
    "# no historical data for NAV, but there are some free trail to get the data\n",
    "# https://ycharts.com/companies/YINN\n",
    "def get_Direxion_NAV(symbol,addr,start,last_day_of_month):\n",
    "    # check directory\n",
    "    if not os.path.isdir('./data'):\n",
    "        os.mkdir('./data')\n",
    "    if not os.path.isdir('./data/Direxion'):\n",
    "        os.mkdir('./data/Direxion')"
   ]
  },
  {
   "cell_type": "code",
   "execution_count": 118,
   "metadata": {},
   "outputs": [
    {
     "name": "stdout",
     "output_type": "stream",
     "text": [
      "Emerging Markets Internet & Ecommerce ETF\n",
      "https://emqqetf.com/\n"
     ]
    }
   ],
   "source": [
    "print(dic['name'][13])\n",
    "print(dic['addr'][13])"
   ]
  },
  {
   "cell_type": "code",
   "execution_count": null,
   "metadata": {},
   "outputs": [],
   "source": [
    "# emqq\n",
    "def get_EMQQ_NAV(symbol,addr,start,last_day_of_month):\n",
    "    # check directory\n",
    "    if not os.path.isdir('./data'):\n",
    "        os.mkdir('./data')\n",
    "    if not os.path.isdir('./data/EMQQ'):\n",
    "        os.mkdir('./data/EMQQ')"
   ]
  },
  {
   "cell_type": "code",
   "execution_count": null,
   "metadata": {},
   "outputs": [],
   "source": [
    "dic"
   ]
  },
  {
   "cell_type": "markdown",
   "metadata": {},
   "source": [
    "### Deal with xml file "
   ]
  },
  {
   "cell_type": "code",
   "execution_count": 63,
   "metadata": {},
   "outputs": [],
   "source": [
    "import xml.etree.ElementTree as ET\n"
   ]
  },
  {
   "cell_type": "code",
   "execution_count": 64,
   "metadata": {},
   "outputs": [],
   "source": [
    "tree = ET.parse('ck0001617113-20170930.xml')"
   ]
  },
  {
   "cell_type": "code",
   "execution_count": 66,
   "metadata": {},
   "outputs": [],
   "source": [
    "root = tree.getroot()"
   ]
  },
  {
   "cell_type": "code",
   "execution_count": 68,
   "metadata": {},
   "outputs": [
    {
     "data": {
      "text/plain": [
       "{}"
      ]
     },
     "execution_count": 68,
     "metadata": {},
     "output_type": "execute_result"
    }
   ],
   "source": [
    "root.attrib"
   ]
  },
  {
   "cell_type": "code",
   "execution_count": 71,
   "metadata": {},
   "outputs": [],
   "source": [
    "from lxml import objectify\n",
    "xml = objectify.parse('ck0001617113-20170930_lab.xml')\n",
    "root = xml.getroot()\n",
    "\n",
    "data=[]\n",
    "for i in range(len(root.getchildren())):\n",
    "    data.append([child.text for child in root.getchildren()[i].getchildren()])"
   ]
  },
  {
   "cell_type": "code",
   "execution_count": null,
   "metadata": {},
   "outputs": [],
   "source": []
  },
  {
   "cell_type": "code",
   "execution_count": null,
   "metadata": {},
   "outputs": [],
   "source": []
  }
 ],
 "metadata": {
  "kernelspec": {
   "display_name": "Python 3",
   "language": "python",
   "name": "python3"
  },
  "language_info": {
   "codemirror_mode": {
    "name": "ipython",
    "version": 3
   },
   "file_extension": ".py",
   "mimetype": "text/x-python",
   "name": "python",
   "nbconvert_exporter": "python",
   "pygments_lexer": "ipython3",
   "version": "3.6.5"
  }
 },
 "nbformat": 4,
 "nbformat_minor": 2
}
